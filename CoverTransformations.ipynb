{
 "cells": [
  {
   "cell_type": "code",
   "execution_count": 1,
   "id": "330fdef2-ee74-48f2-ad8f-c1fddb81fe5e",
   "metadata": {},
   "outputs": [],
   "source": [
    "import numpy as np\n",
    "from gtda.mapper import (\n",
    "    CubicalCover,\n",
    "    make_mapper_pipeline,\n",
    "    Projection,\n",
    "    plot_static_mapper_graph,\n",
    "    nerve,\n",
    ")\n",
    "from sklearn.cluster import DBSCAN\n",
    "# from sklearn.decomposition import PCA\n",
    "from sklearn.datasets import make_circles\n",
    "from clustering_algorithms import trivial_clusterer, nbhd_clusterer\n",
    "\n",
    "import plotly.graph_objects as go"
   ]
  },
  {
   "cell_type": "code",
   "execution_count": 2,
   "id": "7bb6b793-b7fa-4f84-9a46-084d706e8de9",
   "metadata": {},
   "outputs": [],
   "source": [
    "data,_ = make_circles(5000)"
   ]
  },
  {
   "cell_type": "code",
   "execution_count": 68,
   "id": "e2eee6a6-43cc-44bd-bd7d-c8fbb3c622f4",
   "metadata": {},
   "outputs": [],
   "source": [
    "pipe = make_mapper_pipeline(\n",
    "    filter_func = Projection(columns = [0]),\n",
    "    cover = CubicalCover(),\n",
    "    clusterer = trivial_clusterer(),\n",
    "    verbose = True,\n",
    "    store_edge_elements = True,\n",
    ")\n",
    "filter_func = Projection(columns = [0])\n",
    "cover= CubicalCover()"
   ]
  },
  {
   "cell_type": "markdown",
   "id": "75fec188-8dc2-4504-b316-8cc6f1f91684",
   "metadata": {},
   "source": [
    "## Explaination of data \n",
    "The method `fit_transform` for the `CubicalCover` class converts data set of size `(n_samples, dim)` into boolean vector of shape `(n_samples, n_coversets)`. "
   ]
  },
  {
   "cell_type": "code",
   "execution_count": 92,
   "id": "e70d5ca1-bf73-48df-9eb3-2855003c904a",
   "metadata": {},
   "outputs": [],
   "source": [
    "x = cover.fit_transform(filter_func.fit_transform(data))"
   ]
  },
  {
   "cell_type": "code",
   "execution_count": 98,
   "id": "ae665976-f8f4-4949-8138-a56985a59667",
   "metadata": {},
   "outputs": [],
   "source": [
    "from sklearn.base import clone\n",
    "\n",
    "def cover_transform(cover, function):\n",
    "    new_cover = clone(cover)\n",
    "    new_cover._coverers = []\n",
    "    new_cover._n_features_fit = cover._n_features_fit\n",
    "    for i,c in enumerate(cover._coverers):\n",
    "        new_c = clone(c)\n",
    "        new_cover._coverers.append(new_c)\n",
    "        new_lefts = function(c.left_limits_)\n",
    "        new_rights = function(c.right_limits_)\n",
    "        new_cover._coverers[i].left_limits_ = new_lefts\n",
    "        new_cover._coverers[i].right_limits_ = new_rights\n",
    "        \n",
    "    return new_cover"
   ]
  },
  {
   "cell_type": "code",
   "execution_count": 99,
   "id": "c26346bd-064c-4d90-a49c-c09c3623fe24",
   "metadata": {},
   "outputs": [],
   "source": [
    "new_cover = cover_transform(cover, lambda x: x+1)"
   ]
  },
  {
   "cell_type": "code",
   "execution_count": 104,
   "id": "e68a6136-9199-4374-be3c-b0d4b0a766a5",
   "metadata": {},
   "outputs": [
    {
     "name": "stdout",
     "output_type": "stream",
     "text": [
      "-inf -inf -0.7802197802197802 0.21978021978021978\n",
      "-0.8021978021978022 0.19780219780219777 -0.5824175824175825 0.41758241758241754\n",
      "-0.6043956043956045 0.39560439560439553 -0.3846153846153847 0.6153846153846153\n",
      "-0.4065934065934066 0.5934065934065934 -0.18681318681318682 0.8131868131868132\n",
      "-0.20879120879120883 0.7912087912087912 0.01098901098901095 1.010989010989011\n",
      "-0.010989010989011061 0.9890109890109889 0.20879120879120872 1.2087912087912087\n",
      "0.18681318681318682 1.1868131868131868 0.4065934065934066 1.4065934065934065\n",
      "0.3846153846153846 1.3846153846153846 0.6043956043956044 1.6043956043956045\n",
      "0.5824175824175823 1.5824175824175823 0.8021978021978021 1.802197802197802\n",
      "0.7802197802197801 1.7802197802197801 inf inf\n"
     ]
    }
   ],
   "source": [
    "for c,cc in zip(cover._coverers, new_cover._coverers):\n",
    "    for l in range(len(c.left_limits_)):\n",
    "        print(c.left_limits_[l], cc.left_limits_[l], c.right_limits_[l], cc.right_limits_[l])"
   ]
  },
  {
   "cell_type": "code",
   "execution_count": 101,
   "id": "4a3f6034-6156-4c82-9bea-688bae6ea2b6",
   "metadata": {},
   "outputs": [],
   "source": [
    "x = cover.transform(filter_func.fit_transform(data))\n",
    "y = new_cover.transform(filter_func.fit_transform(data))"
   ]
  },
  {
   "cell_type": "code",
   "execution_count": null,
   "id": "601ddb76-741b-4613-a628-81044e46725d",
   "metadata": {},
   "outputs": [],
   "source": []
  }
 ],
 "metadata": {
  "kernelspec": {
   "display_name": "TDA",
   "language": "python",
   "name": "tda"
  },
  "language_info": {
   "codemirror_mode": {
    "name": "ipython",
    "version": 3
   },
   "file_extension": ".py",
   "mimetype": "text/x-python",
   "name": "python",
   "nbconvert_exporter": "python",
   "pygments_lexer": "ipython3",
   "version": "3.9.5"
  }
 },
 "nbformat": 4,
 "nbformat_minor": 5
}
